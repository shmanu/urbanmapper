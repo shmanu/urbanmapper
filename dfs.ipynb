{
 "cells": [
  {
   "cell_type": "code",
   "execution_count": 1,
   "metadata": {
    "collapsed": true
   },
   "outputs": [],
   "source": [
    "import numpy as np"
   ]
  },
  {
   "cell_type": "code",
   "execution_count": 13,
   "metadata": {
    "collapsed": false
   },
   "outputs": [],
   "source": [
    "bin_arr = np.array([[0,0,1,0,1],\n",
    "                      [1,1,1,0,0],\n",
    "                      [0,0,1,0,1],\n",
    "                      [1,1,0,0,1]])"
   ]
  },
  {
   "cell_type": "code",
   "execution_count": 20,
   "metadata": {
    "collapsed": true
   },
   "outputs": [],
   "source": [
    "def dfs(bin_arr, index_arr, i, j, cur_index):\n",
    "    stack = [(i,j)]\n",
    "    (N1,N2) = bin_arr.shape\n",
    "    while len(stack)> 0:\n",
    "        (x,y) = stack.pop()\n",
    "        index_arr[x,y] = cur_index\n",
    "        if (x < N1 -1) and (bin_arr[x+1,y] == 1) and (index_arr[x+1,y] < 0):\n",
    "            stack.append((x+1,y))\n",
    "        if (y < N2 - 1) and (bin_arr[x,y+1] == 1) and (index_arr[x,y+1] < 0):\n",
    "            stack.append((x,y+1))\n",
    "        if (x > 0) and (bin_arr[x-1,y] == 1) and (index_arr[x-1,y] < 0):\n",
    "            stack.append((x-1,y))\n",
    "        if (y > 0) and (bin_arr[x,y-1] == 1) and (index_arr[x,y-1] < 0):\n",
    "            stack.append((x,y-1))"
   ]
  },
  {
   "cell_type": "code",
   "execution_count": 21,
   "metadata": {
    "collapsed": false
   },
   "outputs": [],
   "source": [
    "def find_index(bin_arr):\n",
    "    cur_index = 1\n",
    "    index_arr = np.ones(bin_arr.shape)*-1\n",
    "    for i in range(0,bin_arr.shape[0]):\n",
    "        for j in range (0,bin_arr.shape[1]):\n",
    "            if index_arr[i,j] >=0:\n",
    "                continue\n",
    "            elif bin_arr[i,j] == 0:\n",
    "                index_arr[i,j] = 0 \n",
    "            else:\n",
    "                dfs(bin_arr, index_arr, i,j, cur_index)\n",
    "                cur_index = cur_index + 1\n",
    "    return index_arr"
   ]
  },
  {
   "cell_type": "code",
   "execution_count": 23,
   "metadata": {
    "collapsed": false
   },
   "outputs": [],
   "source": [
    "index_arr = find_index(bin_arr)"
   ]
  },
  {
   "cell_type": "code",
   "execution_count": 38,
   "metadata": {
    "collapsed": false
   },
   "outputs": [
    {
     "name": "stdout",
     "output_type": "stream",
     "text": [
      "[[0 0 1 0 1]\n",
      " [1 1 1 0 0]\n",
      " [0 0 1 0 1]\n",
      " [1 1 0 0 1]]\n",
      "[[ 0.  0.  1.  0.  2.]\n",
      " [ 1.  1.  1.  0.  0.]\n",
      " [ 0.  0.  1.  0.  3.]\n",
      " [ 4.  4.  0.  0.  3.]]\n"
     ]
    }
   ],
   "source": [
    "print bin_arr\n",
    "print index_arr"
   ]
  },
  {
   "cell_type": "code",
   "execution_count": 26,
   "metadata": {
    "collapsed": false
   },
   "outputs": [],
   "source": [
    "lin_size = index_arr.shape[0]*index_arr.shape[1]\n",
    "lin_arr = np.reshape(index_arr,newshape=lin_size)"
   ]
  },
  {
   "cell_type": "code",
   "execution_count": 34,
   "metadata": {
    "collapsed": false
   },
   "outputs": [
    {
     "data": {
      "text/plain": [
       "array([ 0.,  0.,  1.,  0.,  2.,  1.,  1.,  1.,  0.,  0.,  0.,  0.,  1.,\n",
       "        0.,  3.,  4.,  4.,  0.,  0.,  3.])"
      ]
     },
     "execution_count": 34,
     "metadata": {},
     "output_type": "execute_result"
    }
   ],
   "source": [
    "lin_arr"
   ]
  },
  {
   "cell_type": "code",
   "execution_count": 35,
   "metadata": {
    "collapsed": false
   },
   "outputs": [
    {
     "name": "stdout",
     "output_type": "stream",
     "text": [
      "[0, 2, 1, 1, 0, 1, 2, 1, 1, 3, 0, 4, 1, 1, 0, 1, 3, 1, 4, 2, 0, 2, 3, 1]\n"
     ]
    }
   ],
   "source": [
    "output = []\n",
    "count = 1\n",
    "for i in range(0, lin_size):\n",
    "    if (i < lin_size-1) and (lin_arr[i] == lin_arr[i+1]):\n",
    "        count = count + 1\n",
    "    else:\n",
    "        output.extend([int(lin_arr[i]), int(count)])\n",
    "        count = 1\n",
    "print output"
   ]
  },
  {
   "cell_type": "code",
   "execution_count": null,
   "metadata": {
    "collapsed": true
   },
   "outputs": [],
   "source": []
  },
  {
   "cell_type": "code",
   "execution_count": 7,
   "metadata": {
    "collapsed": false
   },
   "outputs": [
    {
     "data": {
      "text/plain": [
       "array([[-1., -1., -1., -1., -1.],\n",
       "       [-1., -1., -1., -1., -1.],\n",
       "       [-1., -1., -1., -1., -1.],\n",
       "       [-1., -1., -1., -1., -1.]])"
      ]
     },
     "execution_count": 7,
     "metadata": {},
     "output_type": "execute_result"
    }
   ],
   "source": [
    "def get_output_sequence(index_arr):\n",
    "    \n"
   ]
  },
  {
   "cell_type": "code",
   "execution_count": null,
   "metadata": {
    "collapsed": true
   },
   "outputs": [],
   "source": []
  }
 ],
 "metadata": {
  "kernelspec": {
   "display_name": "Python [conda root]",
   "language": "python",
   "name": "conda-root-py"
  },
  "language_info": {
   "codemirror_mode": {
    "name": "ipython",
    "version": 2
   },
   "file_extension": ".py",
   "mimetype": "text/x-python",
   "name": "python",
   "nbconvert_exporter": "python",
   "pygments_lexer": "ipython2",
   "version": "2.7.12"
  }
 },
 "nbformat": 4,
 "nbformat_minor": 1
}
